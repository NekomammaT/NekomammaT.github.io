{
 "cells": [
  {
   "cell_type": "markdown",
   "metadata": {},
   "source": [
    "## Preamble"
   ]
  },
  {
   "cell_type": "code",
   "execution_count": null,
   "metadata": {},
   "outputs": [],
   "source": [
    "$ProcessorCount"
   ]
  },
  {
   "cell_type": "code",
   "execution_count": null,
   "metadata": {},
   "outputs": [],
   "source": [
    "Unprotect[$ProcessorCount]; $ProcessorCount = 4;"
   ]
  },
  {
   "cell_type": "code",
   "execution_count": null,
   "metadata": {},
   "outputs": [],
   "source": [
    "SetDirectory[\"~/Documents/Univ/2nd_GW_QCD\"];"
   ]
  },
  {
   "cell_type": "code",
   "execution_count": null,
   "metadata": {},
   "outputs": [],
   "source": [
    "SetOptions[{Plot,LogPlot,LogLinearPlot,LogLogPlot},\n",
    "           {ImageSize->Large,\n",
    "            Frame->True,\n",
    "            LabelStyle->Directive[Black,Large,FontFamily->\"Palatino\"],\n",
    "            PlotStyle->AbsoluteThickness[3]}];\n",
    "SetOptions[{ListPlot,ListLogPlot,ListLogLinearPlot,ListLogLogPlot},\n",
    "           {ImageSize->Large,\n",
    "            Frame->True,\n",
    "            LabelStyle->Directive[Black,Large,FontFamily->\"Palatino\"],\n",
    "            PlotStyle->AbsoluteThickness[3],\n",
    "            Joined->True}];\n",
    "SetOptions[{ParametricPlot},\n",
    "           {ImageSize->Large,\n",
    "            Frame->True,\n",
    "            LabelStyle->Directive[Black,Large,FontFamily->\"Palatino\"],\n",
    "            PlotStyle->AbsoluteThickness[3],\n",
    "            AspectRatio->1/GoldenRatio}];\n",
    "RGBData = {\"#5E81B5\",\"#E19C24\",\"#8FB032\",\"#EB6235\",\"#8778B3\",\"#C56E1A\",\"#5D9EC7\",\"#FFBF00\",\"#A5609D\",\"#929600\",\"#E95536\",\"#6685D9\",\"#F89F13\",\"#BC5B80\",\"#47B66D\"};\n",
    "Color = Map[RGBColor,RGBData];"
   ]
  },
  {
   "cell_type": "code",
   "execution_count": null,
   "metadata": {},
   "outputs": [],
   "source": [
    "ParallelEvaluate[SetOptions[{Plot,LogPlot,LogLinearPlot,LogLogPlot},\n",
    "           {ImageSize->Large,\n",
    "            Frame->True,\n",
    "            LabelStyle->Directive[Black,Large,FontFamily->\"Palatino\"],\n",
    "            PlotStyle->AbsoluteThickness[3]}];\n",
    "SetOptions[{ListPlot,ListLogPlot,ListLogLinearPlot,ListLogLogPlot},\n",
    "           {ImageSize->Large,\n",
    "            Frame->True,\n",
    "            LabelStyle->Directive[Black,Large,FontFamily->\"Palatino\"],\n",
    "            PlotStyle->AbsoluteThickness[3],\n",
    "            Joined->True}];\n",
    "SetOptions[{ParametricPlot},\n",
    "           {ImageSize->Large,\n",
    "            Frame->True,\n",
    "            LabelStyle->Directive[Black,Large,FontFamily->\"Palatino\"],\n",
    "            PlotStyle->AbsoluteThickness[3],\n",
    "            AspectRatio->1/GoldenRatio}];\n",
    "RGBData = {\"#5E81B5\",\"#E19C24\",\"#8FB032\",\"#EB6235\",\"#8778B3\",\"#C56E1A\",\"#5D9EC7\",\"#FFBF00\",\"#A5609D\",\"#929600\",\"#E95536\",\"#6685D9\",\"#F89F13\",\"#BC5B80\",\"#47B66D\"};\n",
    "Color = Map[RGBColor,RGBData];]"
   ]
  },
  {
   "cell_type": "code",
   "execution_count": 2,
   "metadata": {},
   "outputs": [
    {
     "data": {
      "text/html": [
       "<div><pre style=\"&#102;&#111;&#110;&#116;&#45;&#102;&#97;&#109;&#105;&#108;&#121;&#58;&#32;&#34;&#67;&#111;&#117;&#114;&#105;&#101;&#114;&#32;&#78;&#101;&#119;&#34;&#44;&#67;&#111;&#117;&#114;&#105;&#101;&#114;&#44;&#109;&#111;&#110;&#111;&#115;&#112;&#97;&#99;&#101;&#59;\">&#51;&#54;&#46;&#51;&#55;&#51;&#49;</pre></div>"
      ],
      "text/plain": [
       "36.3731"
      ]
     },
     "execution_count": 2,
     "metadata": {
      "text/html": [],
      "text/plain": []
     },
     "output_type": "execute_result"
    }
   ],
   "source": [
    "21Sqrt[3] // N"
   ]
  },
  {
   "cell_type": "code",
   "execution_count": null,
   "metadata": {},
   "outputs": [
    {
     "data": {
      "text/html": [
       "<div><pre style=\"&#102;&#111;&#110;&#116;&#45;&#102;&#97;&#109;&#105;&#108;&#121;&#58;&#32;&#34;&#67;&#111;&#117;&#114;&#105;&#101;&#114;&#32;&#78;&#101;&#119;&#34;&#44;&#67;&#111;&#117;&#114;&#105;&#101;&#114;&#44;&#109;&#111;&#110;&#111;&#115;&#112;&#97;&#99;&#101;&#59;\">&#123;&#123;&#48;&#46;&#44;&#32;&#45;&#49;&#46;&#125;&#44;&#32;&#123;&#48;&#46;&#49;&#44;&#32;&#45;&#49;&#46;&#51;&#125;&#44;&#32;&#123;&#48;&#46;&#50;&#44;&#32;&#45;&#49;&#46;&#54;&#125;&#44;&#32;&#123;&#48;&#46;&#51;&#44;&#32;&#45;&#49;&#46;&#57;&#125;&#44;&#32;&#123;&#48;&#46;&#52;&#44;&#32;&#45;&#50;&#46;&#50;&#125;&#44;&#32;&#123;&#48;&#46;&#53;&#44;&#32;&#45;&#50;&#46;&#53;&#125;&#44;&#32;&#123;&#48;&#46;&#54;&#44;&#32;&#45;&#50;&#46;&#56;&#125;&#44;&#32;&#123;&#48;&#46;&#55;&#44;&#32;&#45;&#51;&#46;&#49;&#125;&#44;&#32;&#123;&#48;&#46;&#56;&#44;&#32;&#45;&#51;&#46;&#52;&#125;&#44;&#32;&#123;&#48;&#46;&#57;&#44;&#32;&#45;&#51;&#46;&#55;&#125;&#44;&#32;&#123;&#49;&#46;&#44;&#32;&#45;&#52;&#46;&#125;&#44;&#32;&#123;&#49;&#46;&#49;&#44;&#32;&#45;&#52;&#46;&#51;&#125;&#44;&#32;&#123;&#49;&#46;&#50;&#44;&#32;&#45;&#52;&#46;&#54;&#125;&#44;&#32;&#123;&#49;&#46;&#51;&#44;&#32;&#45;&#52;&#46;&#57;&#125;&#44;&#32;&#123;&#49;&#46;&#52;&#44;&#32;&#45;&#53;&#46;&#50;&#125;&#44;&#32;&#123;&#49;&#46;&#53;&#44;&#32;&#45;&#53;&#46;&#53;&#125;&#44;&#32;&#123;&#49;&#46;&#54;&#44;&#32;&#45;&#53;&#46;&#56;&#125;&#125;</pre></div>"
      ]
     },
     "execution_count": 208,
     "metadata": {
      "text/html": []
     },
     "output_type": "execute_result"
    }
   ],
   "source": [
    "h = 0.1;\n",
    "a = 1/6;\n",
    "b = 1/3;\n",
    "c = 1/2;\n",
    "y[0] = -1;\n",
    "f[y_,t_] := 3y+9t;\n",
    "table2 = Table[\n",
    "    k1 = h f[y[i],i];\n",
    "    k2 = h f[y[i]+c k1, i+c h];\n",
    "    k3 = h f[y[i]+c k2, i+c h];\n",
    "    k4 = h f[y[i]+k3, i+h];\n",
    "    y[i+1/10] = y[i] + a k1 + b k2 + b k3 + a k4;\n",
    "    {i,y[i]}, {i,0,16/10,1/10}] // N"
   ]
  },
  {
   "cell_type": "code",
   "execution_count": null,
   "metadata": {},
   "outputs": [
    {
     "data": {
      "text/html": [
       "<div><pre style=\"&#102;&#111;&#110;&#116;&#45;&#102;&#97;&#109;&#105;&#108;&#121;&#58;&#32;&#34;&#67;&#111;&#117;&#114;&#105;&#101;&#114;&#32;&#78;&#101;&#119;&#34;&#44;&#67;&#111;&#117;&#114;&#105;&#101;&#114;&#44;&#109;&#111;&#110;&#111;&#115;&#112;&#97;&#99;&#101;&#59;\">&#123;&#123;&#48;&#44;&#32;&#45;&#49;&#125;&#44;&#32;&#123;&#48;&#46;&#49;&#44;&#32;&#45;&#49;&#46;&#51;&#125;&#44;&#32;&#123;&#48;&#46;&#50;&#44;&#32;&#45;&#49;&#46;&#54;&#125;&#44;&#32;&#123;&#48;&#46;&#51;&#44;&#32;&#45;&#49;&#46;&#57;&#125;&#44;&#32;&#123;&#48;&#46;&#52;&#44;&#32;&#45;&#50;&#46;&#50;&#125;&#44;&#32;&#123;&#48;&#46;&#53;&#44;&#32;&#45;&#50;&#46;&#53;&#125;&#44;&#32;&#123;&#48;&#46;&#54;&#44;&#32;&#45;&#50;&#46;&#56;&#125;&#44;&#32;&#123;&#48;&#46;&#55;&#44;&#32;&#45;&#51;&#46;&#49;&#125;&#44;&#32;&#123;&#48;&#46;&#56;&#44;&#32;&#45;&#51;&#46;&#52;&#125;&#44;&#32;&#123;&#48;&#46;&#57;&#44;&#32;&#45;&#51;&#46;&#55;&#125;&#44;&#32;&#123;&#49;&#46;&#44;&#32;&#45;&#52;&#46;&#125;&#44;&#32;&#123;&#49;&#46;&#49;&#44;&#32;&#45;&#52;&#46;&#51;&#125;&#44;&#32;&#123;&#49;&#46;&#50;&#44;&#32;&#45;&#52;&#46;&#54;&#125;&#44;&#32;&#123;&#49;&#46;&#51;&#44;&#32;&#45;&#52;&#46;&#57;&#125;&#44;&#32;&#123;&#49;&#46;&#52;&#44;&#32;&#45;&#53;&#46;&#50;&#125;&#44;&#32;&#123;&#49;&#46;&#53;&#44;&#32;&#45;&#53;&#46;&#53;&#125;&#44;&#32;&#123;&#49;&#46;&#54;&#44;&#32;&#45;&#53;&#46;&#56;&#125;&#125;</pre></div>"
      ]
     },
     "execution_count": 216,
     "metadata": {
      "text/html": []
     },
     "output_type": "execute_result"
    }
   ],
   "source": [
    "h = 0.1;\n",
    "a = 1/6;\n",
    "b = 1/3;\n",
    "c = 1/2;\n",
    "tyi = {0,-1};\n",
    "f[t_,y_] := 3y+9t\n",
    "RK[ty_] := {ty[[1]]+h, \n",
    "            k1 = h f[ty[[1]],ty[[2]]];\n",
    "            k2 = h f[ty[[1]]+c h, ty[[2]]+c k1];\n",
    "            k3 = h f[ty[[1]]+c h, ty[[2]]+c k2];\n",
    "            k4 = h f[ty[[1]]+h, ty[[2]]+k3];\n",
    "            ty[[2]] + a k1 + b k2 + b k3 + a k4}\n",
    "sol = NestList[RK,tyi,16]"
   ]
  },
  {
   "cell_type": "code",
   "execution_count": null,
   "metadata": {},
   "outputs": [
    {
     "data": {
      "text/html": [
       "<div><img alt=\"Output\" src=\"data:image/png;base64,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\"></div>"
      ]
     },
     "execution_count": 15,
     "metadata": {
      "text/html": []
     },
     "output_type": "execute_result"
    }
   ],
   "source": [
    "DSolve[{Hinv'[NN] == (3+(1-Oc[NN]))/2 Hinv[NN], \n",
    "        Oc'[NN] == Oc[NN](1-Oc[NN]) - Gamma Oc[NN]Hinv[NN]}, {Hinv[NN],Oc[NN]}, NN]"
   ]
  },
  {
   "cell_type": "code",
   "execution_count": null,
   "metadata": {},
   "outputs": [
    {
     "data": {
      "text/html": [
       "<div><img alt=\"Output\" src=\"data:image/png;base64,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\"></div>"
      ]
     },
     "execution_count": 18,
     "metadata": {
      "text/html": []
     },
     "output_type": "execute_result"
    }
   ],
   "source": [
    "Hisol[NN_] = Hinv[NN] /. Solve[Oc'[NN] == Oc[NN](1-Oc[NN]) - Gamma Oc[NN]Hinv[NN], Hinv[NN]][[1]]"
   ]
  },
  {
   "cell_type": "code",
   "execution_count": null,
   "metadata": {},
   "outputs": [
    {
     "data": {
      "text/html": [
       "<div><img alt=\"Output\" src=\"data:image/png;base64,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\"></div>"
      ]
     },
     "execution_count": 24,
     "metadata": {
      "text/html": []
     },
     "output_type": "execute_result"
    }
   ],
   "source": [
    "DSolve[FullSimplify[Hisol'[NN] Gamma Oc[NN] == (3+(1-Oc[NN]))/2 Hisol[NN] Gamma Oc[NN]], Oc[NN], NN]"
   ]
  },
  {
   "cell_type": "code",
   "execution_count": null,
   "metadata": {},
   "outputs": [],
   "source": []
  }
 ],
 "metadata": {
  "kernelspec": {
   "display_name": "Wolfram Language 12.1",
   "language": "Wolfram Language",
   "name": "wolframlanguage12.1"
  },
  "language_info": {
   "codemirror_mode": "mathematica",
   "file_extension": ".m",
   "mimetype": "application/vnd.wolfram.m",
   "name": "Wolfram Language",
   "pygments_lexer": "mathematica",
   "version": "12.0"
  }
 },
 "nbformat": 4,
 "nbformat_minor": 4
}
