{
 "cells": [
  {
   "cell_type": "markdown",
   "metadata": {},
   "source": [
    "## Preamble"
   ]
  },
  {
   "cell_type": "code",
   "execution_count": null,
   "metadata": {},
   "outputs": [],
   "source": [
    "$ProcessorCount"
   ]
  },
  {
   "cell_type": "code",
   "execution_count": null,
   "metadata": {},
   "outputs": [],
   "source": [
    "Unprotect[$ProcessorCount]; $ProcessorCount = 4;"
   ]
  },
  {
   "cell_type": "code",
   "execution_count": null,
   "metadata": {},
   "outputs": [],
   "source": [
    "SetDirectory[\"~/Documents/Univ/2nd_GW_QCD\"];"
   ]
  },
  {
   "cell_type": "code",
   "execution_count": null,
   "metadata": {},
   "outputs": [],
   "source": [
    "SetOptions[{Plot,LogPlot,LogLinearPlot,LogLogPlot},\n",
    "           {ImageSize->Large,\n",
    "            Frame->True,\n",
    "            LabelStyle->Directive[Black,Large,FontFamily->\"Palatino\"],\n",
    "            PlotStyle->AbsoluteThickness[3]}];\n",
    "SetOptions[{ListPlot,ListLogPlot,ListLogLinearPlot,ListLogLogPlot},\n",
    "           {ImageSize->Large,\n",
    "            Frame->True,\n",
    "            LabelStyle->Directive[Black,Large,FontFamily->\"Palatino\"],\n",
    "            PlotStyle->AbsoluteThickness[3],\n",
    "            Joined->True}];\n",
    "SetOptions[{ParametricPlot},\n",
    "           {ImageSize->Large,\n",
    "            Frame->True,\n",
    "            LabelStyle->Directive[Black,Large,FontFamily->\"Palatino\"],\n",
    "            PlotStyle->AbsoluteThickness[3],\n",
    "            AspectRatio->1/GoldenRatio}];\n",
    "RGBData = {\"#5E81B5\",\"#E19C24\",\"#8FB032\",\"#EB6235\",\"#8778B3\",\"#C56E1A\",\"#5D9EC7\",\"#FFBF00\",\"#A5609D\",\"#929600\",\"#E95536\",\"#6685D9\",\"#F89F13\",\"#BC5B80\",\"#47B66D\"};\n",
    "Color = Map[RGBColor,RGBData];"
   ]
  },
  {
   "cell_type": "code",
   "execution_count": null,
   "metadata": {},
   "outputs": [],
   "source": [
    "ParallelEvaluate[SetOptions[{Plot,LogPlot,LogLinearPlot,LogLogPlot},\n",
    "           {ImageSize->Large,\n",
    "            Frame->True,\n",
    "            LabelStyle->Directive[Black,Large,FontFamily->\"Palatino\"],\n",
    "            PlotStyle->AbsoluteThickness[3]}];\n",
    "SetOptions[{ListPlot,ListLogPlot,ListLogLinearPlot,ListLogLogPlot},\n",
    "           {ImageSize->Large,\n",
    "            Frame->True,\n",
    "            LabelStyle->Directive[Black,Large,FontFamily->\"Palatino\"],\n",
    "            PlotStyle->AbsoluteThickness[3],\n",
    "            Joined->True}];\n",
    "SetOptions[{ParametricPlot},\n",
    "           {ImageSize->Large,\n",
    "            Frame->True,\n",
    "            LabelStyle->Directive[Black,Large,FontFamily->\"Palatino\"],\n",
    "            PlotStyle->AbsoluteThickness[3],\n",
    "            AspectRatio->1/GoldenRatio}];\n",
    "RGBData = {\"#5E81B5\",\"#E19C24\",\"#8FB032\",\"#EB6235\",\"#8778B3\",\"#C56E1A\",\"#5D9EC7\",\"#FFBF00\",\"#A5609D\",\"#929600\",\"#E95536\",\"#6685D9\",\"#F89F13\",\"#BC5B80\",\"#47B66D\"};\n",
    "Color = Map[RGBColor,RGBData];]"
   ]
  },
  {
   "cell_type": "code",
   "execution_count": 2,
   "metadata": {},
   "outputs": [
    {
     "data": {
      "text/html": [
       "<div><pre style=\"&#102;&#111;&#110;&#116;&#45;&#102;&#97;&#109;&#105;&#108;&#121;&#58;&#32;&#34;&#67;&#111;&#117;&#114;&#105;&#101;&#114;&#32;&#78;&#101;&#119;&#34;&#44;&#67;&#111;&#117;&#114;&#105;&#101;&#114;&#44;&#109;&#111;&#110;&#111;&#115;&#112;&#97;&#99;&#101;&#59;\">&#51;&#54;&#46;&#51;&#55;&#51;&#49;</pre></div>"
      ],
      "text/plain": [
       "36.3731"
      ]
     },
     "execution_count": 2,
     "metadata": {
      "text/html": [],
      "text/plain": []
     },
     "output_type": "execute_result"
    }
   ],
   "source": [
    "21Sqrt[3] // N"
   ]
  },
  {
   "cell_type": "code",
   "execution_count": null,
   "metadata": {},
   "outputs": [],
   "source": []
  }
 ],
 "metadata": {
  "kernelspec": {
   "display_name": "Wolfram Language 12.1",
   "language": "Wolfram Language",
   "name": "wolframlanguage12.1"
  },
  "language_info": {
   "codemirror_mode": "mathematica",
   "file_extension": ".m",
   "mimetype": "application/vnd.wolfram.m",
   "name": "Wolfram Language",
   "pygments_lexer": "mathematica",
   "version": "12.0"
  }
 },
 "nbformat": 4,
 "nbformat_minor": 4
}
